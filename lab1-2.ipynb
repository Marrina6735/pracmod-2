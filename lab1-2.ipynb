{
  "cells": [
    {
      "cell_type": "markdown",
      "metadata": {},
      "source": [
        "# Задание 1"
      ]
    },
    {
      "cell_type": "code",
      "execution_count": null,
      "metadata": {
        "trusted": true
      },
      "outputs": [],
      "source": [
        "import numpy as np\n",
        "import matplotlib.pyplot as plt\n",
        "%matplotlib inline\n",
        "import seaborn as sns \n",
        "from scipy.stats import gaussian_kde\n",
        "\n",
        "import seaborn as sns"
      ]
    },
    {
      "cell_type": "markdown",
      "metadata": {},
      "source": [
        "#### Часть 1"
      ]
    },
    {
      "cell_type": "code",
      "execution_count": 2,
      "metadata": {
        "trusted": true
      },
      "outputs": [
        {
          "data": {
            "text/plain": [
              "array([[0.76877569, 0.5079234 ],\n",
              "       [0.21527562, 0.70113363],\n",
              "       [0.46968485, 0.63159835],\n",
              "       [0.13839424, 0.34581745],\n",
              "       [0.31910963, 0.42738209],\n",
              "       [0.9740257 , 0.84892617],\n",
              "       [0.12417824, 0.80036307],\n",
              "       [0.78693246, 0.01964337],\n",
              "       [0.71646252, 0.28222569],\n",
              "       [0.85863733, 0.96104972]])"
            ]
          },
          "execution_count": 2,
          "metadata": {},
          "output_type": "execute_result"
        }
      ],
      "source": [
        "matrix = np.random.uniform(size=(10,2))\n",
        "matrix"
      ]
    },
    {
      "cell_type": "code",
      "execution_count": 3,
      "metadata": {
        "trusted": true
      },
      "outputs": [
        {
          "data": {
            "text/plain": [
              "[<matplotlib.lines.Line2D at 0x3e0f888>]"
            ]
          },
          "execution_count": 3,
          "metadata": {},
          "output_type": "execute_result"
        },
        {
          "data": {
            "image/png": "[encoded data removed]",
            "text/plain": [
              "<Figure size 432x288 with 1 Axes>"
            ]
          },
          "metadata": {
            "needs_background": "light"
          },
          "output_type": "display_data"
        }
      ],
      "source": [
        "plt.plot(matrix[:,0], matrix[:,1], \"o\")"
      ]
    },
    {
      "cell_type": "markdown",
      "metadata": {},
      "source": [
        "#### Часть 2"
      ]
    },
    {
      "cell_type": "code",
      "execution_count": 4,
      "metadata": {
        "trusted": true
      },
      "outputs": [],
      "source": [
        "rand1000 = np.random.normal(size=1000)"
      ]
    },
    {
      "cell_type": "code",
      "execution_count": 5,
      "metadata": {
        "trusted": true
      },
      "outputs": [
        {
          "data": {
            "text/plain": [
              "(1000,)"
            ]
          },
          "execution_count": 5,
          "metadata": {},
          "output_type": "execute_result"
        }
      ],
      "source": [
        "rand1000.shape"
      ]
    },
    {
      "cell_type": "code",
      "execution_count": 6,
      "metadata": {
        "trusted": true
      },
      "outputs": [
        {
          "data": {
            "text/plain": [
              "(array([ 1.,  0.,  0.,  0.,  1.,  1.,  1.,  3.,  4.,  1.,  3.,  5.,  1.,\n",
              "         3.,  1.,  5.,  2.,  1.,  5.,  6.,  7.,  9.,  9.,  9.,  8.,  5.,\n",
              "         7.,  8.,  8., 12., 15., 14., 18., 14., 13., 26., 13., 21., 16.,\n",
              "        27., 20., 27., 16., 20., 27., 26., 25., 22., 27., 15., 18., 28.,\n",
              "        18., 22., 30., 30., 25., 21., 11., 26., 19., 23., 17., 16., 12.,\n",
              "        12., 10., 10.,  6.,  6.,  4., 12., 10., 11., 12., 10.,  5.,  6.,\n",
              "         1.,  5.,  1.,  5.,  5.,  2.,  1.,  2.,  2.,  2.,  3.,  2.,  1.,\n",
              "         1.,  1.,  0.,  2.,  2.,  0.,  0.,  2.,  2.]),\n",
              " array([-2.81087385, -2.75272398, -2.69457411, -2.63642423, -2.57827436,\n",
              "        -2.52012449, -2.46197462, -2.40382475, -2.34567487, -2.287525  ,\n",
              "        -2.22937513, -2.17122526, -2.11307538, -2.05492551, -1.99677564,\n",
              "        -1.93862577, -1.8804759 , -1.82232602, -1.76417615, -1.70602628,\n",
              "        -1.64787641, -1.58972654, -1.53157666, -1.47342679, -1.41527692,\n",
              "        -1.35712705, -1.29897717, -1.2408273 , -1.18267743, -1.12452756,\n",
              "        -1.06637769, -1.00822781, -0.95007794, -0.89192807, -0.8337782 ,\n",
              "        -0.77562832, -0.71747845, -0.65932858, -0.60117871, -0.54302884,\n",
              "        -0.48487896, -0.42672909, -0.36857922, -0.31042935, -0.25227947,\n",
              "        -0.1941296 , -0.13597973, -0.07782986, -0.01967999,  0.03846989,\n",
              "         0.09661976,  0.15476963,  0.2129195 ,  0.27106938,  0.32921925,\n",
              "         0.38736912,  0.44551899,  0.50366886,  0.56181874,  0.61996861,\n",
              "         0.67811848,  0.73626835,  0.79441823,  0.8525681 ,  0.91071797,\n",
              "         0.96886784,  1.02701771,  1.08516759,  1.14331746,  1.20146733,\n",
              "         1.2596172 ,  1.31776707,  1.37591695,  1.43406682,  1.49221669,\n",
              "         1.55036656,  1.60851644,  1.66666631,  1.72481618,  1.78296605,\n",
              "         1.84111592,  1.8992658 ,  1.95741567,  2.01556554,  2.07371541,\n",
              "         2.13186529,  2.19001516,  2.24816503,  2.3063149 ,  2.36446477,\n",
              "         2.42261465,  2.48076452,  2.53891439,  2.59706426,  2.65521414,\n",
              "         2.71336401,  2.77151388,  2.82966375,  2.88781362,  2.9459635 ,\n",
              "         3.00411337]),\n",
              " <BarContainer object of 100 artists>)"
            ]
          },
          "execution_count": 6,
          "metadata": {},
          "output_type": "execute_result"
        },
        {
          "data": {
            "image/png": "[encoded data removed]",
            "text/plain": [
              "<Figure size 720x288 with 1 Axes>"
            ]
          },
          "metadata": {
            "needs_background": "light"
          },
          "output_type": "display_data"
        }
      ],
      "source": [
        "plt.figure(figsize=(10,4))\n",
        "plt.hist(rand1000, bins=100)"
      ]
    },
    {
      "cell_type": "markdown",
      "metadata": {},
      "source": [
        "мат. ожидание"
      ]
    },
    {
      "cell_type": "code",
      "execution_count": 7,
      "metadata": {
        "trusted": true
      },
      "outputs": [
        {
          "data": {
            "text/plain": [
              "0.02737260168471761"
            ]
          },
          "execution_count": 7,
          "metadata": {},
          "output_type": "execute_result"
        }
      ],
      "source": [
        "np.mean(rand1000)"
      ]
    },
    {
      "cell_type": "markdown",
      "metadata": {},
      "source": [
        "дисперсия"
      ]
    },
    {
      "cell_type": "code",
      "execution_count": 8,
      "metadata": {
        "trusted": true
      },
      "outputs": [
        {
          "data": {
            "text/plain": [
              "0.9761398352725372"
            ]
          },
          "execution_count": 8,
          "metadata": {},
          "output_type": "execute_result"
        }
      ],
      "source": [
        "np.var(rand1000)"
      ]
    },
    {
      "cell_type": "markdown",
      "metadata": {},
      "source": [
        "#### Часть 3"
      ]
    },
    {
      "cell_type": "code",
      "execution_count": 9,
      "metadata": {
        "trusted": true
      },
      "outputs": [
        {
          "data": {
            "text/plain": [
              "[<matplotlib.lines.Line2D at 0x4128460>]"
            ]
          },
          "execution_count": 9,
          "metadata": {},
          "output_type": "execute_result"
        },
        {
          "data": {
            "image/png": "[encoded data removed]",
            "text/plain": [
              "<Figure size 432x288 with 1 Axes>"
            ]
          },
          "metadata": {
            "needs_background": "light"
          },
          "output_type": "display_data"
        }
      ],
      "source": [
        "a = 10\n",
        "plt.xlim(a)\n",
        "plt.ylim(a)\n",
        "dot = np.random.uniform(low=1, high=a, size=(1,2))\n",
        "plt.plot(dot[:,0], dot[:,1], \"or\")"
      ]
    },
    {
      "cell_type": "markdown",
      "metadata": {},
      "source": [
        "# Задание 2"
      ]
    },
    {
      "cell_type": "markdown",
      "metadata": {},
      "source": [
        "#### Часть 1"
      ]
    },
    {
      "cell_type": "markdown",
      "metadata": {},
      "source": [
        "#### Пункт 1.1-1.3"
      ]
    },
    {
      "cell_type": "markdown",
      "metadata": {},
      "source": [
        "Создаем массивы"
      ]
    },
    {
      "cell_type": "code",
      "execution_count": 10,
      "metadata": {
        "trusted": true
      },
      "outputs": [],
      "source": [
        "exp100 = np.random.exponential(scale=1, size=(100,))\n",
        "exp1000 = np.random.exponential(scale=1, size=(1000,))\n",
        "exp_scale = 1\n",
        "\n",
        "norm100 = np.random.normal(loc=0, scale=1, size=(100,))\n",
        "norm1000 = np.random.normal(loc=0, scale=1, size=(1000,))\n",
        "norm_mean = 0\n",
        "norm_std = 1\n",
        "\n",
        "ars = {\"exp100\":exp100,\"exp1000\": exp1000, \"norm100\": norm100, \"norm1000\": norm1000}"
      ]
    },
    {
      "cell_type": "markdown",
      "metadata": {},
      "source": [
        "В цикле смотрим для каждого массива мат ожидание, дисперсию, 0.5 квантиль, 0.99 квантиль и строим гистограмму"
      ]
    },
    {
      "cell_type": "code",
      "execution_count": 11,
      "metadata": {
        "trusted": true
      },
      "outputs": [
        {
          "data": {
            "image/png": "[encoded data removed]",
            "text/plain": [
              "<pyolite.display.Image at 0x41576a0>"
            ]
          },
          "metadata": {},
          "output_type": "display_data"
        },
        {
          "name": "stdout",
          "output_type": "stream",
          "text": [
            "mean:  0.7749295865954425  | origin  1\n",
            "var 0.5620861328109402  | origin  1\n",
            "q05 0.5853184801909923  | origin  0.693147\n",
            "q99 2.7330398609197633  | origin  4.6\n",
            "_____\n"
          ]
        },
        {
          "data": {
            "image/png": "[encoded data removed]",
            "text/plain": [
              "<pyolite.display.Image at 0x445b760>"
            ]
          },
          "metadata": {},
          "output_type": "display_data"
        },
        {
          "name": "stdout",
          "output_type": "stream",
          "text": [
            "mean:  1.0314966969618795  | origin  1\n",
            "var 1.0864514635940181  | origin  1\n",
            "q05 0.7044724043167337  | origin  0.693147\n",
            "q99 5.010475779866638  | origin  4.6\n",
            "_____\n"
          ]
        },
        {
          "data": {
            "image/png": "[encoded data removed]",
            "text/plain": [
              "<pyolite.display.Image at 0x3f011d8>"
            ]
          },
          "metadata": {},
          "output_type": "display_data"
        },
        {
          "name": "stdout",
          "output_type": "stream",
          "text": [
            "mean:  -0.012279659530813168  | origin  0\n",
            "var 0.9286651068111036  | origin  1\n",
            "q05 -0.08213148476241565  | origin  0\n",
            "q99 2.1561909984736336  | origin  2.3\n",
            "_____\n"
          ]
        },
        {
          "data": {
            "image/png": "[encoded data removed]",
            "text/plain": [
              "<pyolite.display.Image at 0x4391b88>"
            ]
          },
          "metadata": {},
          "output_type": "display_data"
        },
        {
          "name": "stdout",
          "output_type": "stream",
          "text": [
            "mean:  -0.008484317957103634  | origin  0\n",
            "var 0.9697738137863596  | origin  1\n",
            "q05 0.0337026385211092  | origin  0\n",
            "q99 2.2470518467467575  | origin  2.3\n",
            "_____\n"
          ]
        },
        {
          "data": {
            "text/plain": [
              "<Figure size 720x216 with 0 Axes>"
            ]
          },
          "metadata": {},
          "output_type": "display_data"
        },
        {
          "data": {
            "text/plain": [
              "<Figure size 720x216 with 0 Axes>"
            ]
          },
          "metadata": {},
          "output_type": "display_data"
        },
        {
          "data": {
            "text/plain": [
              "<Figure size 720x216 with 0 Axes>"
            ]
          },
          "metadata": {},
          "output_type": "display_data"
        },
        {
          "data": {
            "text/plain": [
              "<Figure size 720x216 with 0 Axes>"
            ]
          },
          "metadata": {},
          "output_type": "display_data"
        }
      ],
      "source": [
        "for i in ars:\n",
        "    m = np.mean(ars[i])\n",
        "    v = np.var(ars[i])\n",
        "    q05 = np.quantile(ars[i], q=0.5)\n",
        "    q99 = np.quantile(ars[i], q=0.99)\n",
        "    \n",
        "    plt.figure(figsize=(10,3))\n",
        "    plt.hist(ars[i], bins=100)\n",
        "    plt.title(i)\n",
        "    plt.show()\n",
        "    \n",
        "    if \"exp\" in i:\n",
        "        print(\"mean: \", m, \" | origin \", exp_scale)\n",
        "        print(\"var\", v, \" | origin \", exp_scale)\n",
        "        print(\"q05\", q05, \" | origin \", 0.693147) \n",
        "        print(\"q99\", q99, \" | origin \", 4.6)\n",
        "        print(\"_\"*5)\n",
        "    else:\n",
        "        print(\"mean: \", m, \" | origin \", norm_mean)\n",
        "        print(\"var\", v, \" | origin \", norm_std)\n",
        "        print(\"q05\", q05, \" | origin \", 0)\n",
        "        print(\"q99\", q99, \" | origin \", 2.3)\n",
        "        print(\"_\"*5)\n",
        "    "
      ]
    },
    {
      "cell_type": "markdown",
      "metadata": {},
      "source": [
        "#### Пункт 1.4"
      ]
    },
    {
      "cell_type": "markdown",
      "metadata": {},
      "source": [
        "Экспоненциальное распределение"
      ]
    },
    {
      "cell_type": "code",
      "execution_count": 12,
      "metadata": {
        "trusted": true
      },
      "outputs": [],
      "source": [
        "def f_exp(l, x):\n",
        "    return 1-np.exp(-l*x)"
      ]
    },
    {
      "cell_type": "code",
      "execution_count": 13,
      "metadata": {
        "trusted": true
      },
      "outputs": [],
      "source": [
        "theory_exp_x = np.linspace(0,10,100)\n",
        "theory_exp_y = f_exp(1, theory_exp_x)"
      ]
    },
    {
      "cell_type": "code",
      "execution_count": 14,
      "metadata": {
        "trusted": true
      },
      "outputs": [],
      "source": [
        "exp100_s = sorted(np.copy(exp100))\n",
        "exp1000_s = sorted(np.copy(exp1000))"
      ]
    },
    {
      "cell_type": "code",
      "execution_count": 15,
      "metadata": {
        "trusted": true
      },
      "outputs": [],
      "source": [
        "exp100_y = np.arange(0.,1.,0.01)\n",
        "exp1000_y = np.arange(0.,1.,0.001)"
      ]
    },
    {
      "cell_type": "code",
      "execution_count": 16,
      "metadata": {
        "trusted": true
      },
      "outputs": [
        {
          "data": {
            "text/plain": [
              "<matplotlib.legend.Legend at 0x42748a0>"
            ]
          },
          "execution_count": 16,
          "metadata": {},
          "output_type": "execute_result"
        },
        {
          "data": {
            "image/png": "[encoded data removed]",
            "text/plain": [
              "<Figure size 720x576 with 1 Axes>"
            ]
          },
          "metadata": {
            "needs_background": "light"
          },
          "output_type": "display_data"
        }
      ],
      "source": [
        "plt.figure(figsize=(10,8))\n",
        "plt.plot(theory_exp_x, theory_exp_y, label=\"theory\")\n",
        "plt.plot(exp100_s, exp100_y, label=\"exp100\")\n",
        "plt.plot(exp1000_s, exp1000_y, label=\"exp1000\")\n",
        "plt.legend()"
      ]
    },
    {
      "cell_type": "markdown",
      "metadata": {},
      "source": [
        "Нормальное распределение"
      ]
    },
    {
      "cell_type": "code",
      "execution_count": 17,
      "metadata": {
        "trusted": true
      },
      "outputs": [],
      "source": [
        "from math import erf "
      ]
    },
    {
      "cell_type": "code",
      "execution_count": 18,
      "metadata": {
        "trusted": true
      },
      "outputs": [],
      "source": [
        "def f(x, m, s):\n",
        "    return 0.5*(1+erf((x-m)/np.sqrt(2*s**2)))"
      ]
    },
    {
      "cell_type": "code",
      "execution_count": 19,
      "metadata": {
        "trusted": true
      },
      "outputs": [],
      "source": [
        "theory_x_norm = np.linspace(-3,3,100)\n",
        "theory_y_norm=[]\n",
        "for i in theory_x_norm:\n",
        "    theory_y_norm.append(f(i,0,1))"
      ]
    },
    {
      "cell_type": "code",
      "execution_count": 20,
      "metadata": {
        "trusted": true
      },
      "outputs": [],
      "source": [
        "norm100_s = sorted(np.copy(norm100))\n",
        "norm1000_s = sorted(np.copy(norm1000))"
      ]
    },
    {
      "cell_type": "code",
      "execution_count": 21,
      "metadata": {
        "trusted": true
      },
      "outputs": [],
      "source": [
        "norm100_y = np.arange(0., 1., 0.01) \n",
        "norm1000_y = np.arange(0., 1., 0.001) "
      ]
    },
    {
      "cell_type": "code",
      "execution_count": 22,
      "metadata": {
        "trusted": true
      },
      "outputs": [
        {
          "data": {
            "text/plain": [
              "<matplotlib.legend.Legend at 0x41a0918>"
            ]
          },
          "execution_count": 22,
          "metadata": {},
          "output_type": "execute_result"
        },
        {
          "data": {
            "image/png": "[encoded data removed]",
            "text/plain": [
              "<Figure size 720x576 with 1 Axes>"
            ]
          },
          "metadata": {
            "needs_background": "light"
          },
          "output_type": "display_data"
        }
      ],
      "source": [
        "plt.figure(figsize=(10,8))\n",
        "\n",
        "plt.plot(theory_x_norm, theory_y_norm, label=\"theory\")\n",
        "plt.plot(norm100_s, norm100_y, label=\"norm100\")\n",
        "plt.plot(norm1000_s, norm1000_y, label=\"norm1000\")\n",
        "plt.legend()\n"
      ]
    },
    {
      "cell_type": "markdown",
      "metadata": {},
      "source": [
        "#### Пункт 1.5"
      ]
    },
    {
      "cell_type": "markdown",
      "metadata": {},
      "source": [
        "Построить плотность распределения случайной величины на основе выборки (на одном графике показать плотности распределения, полученные из выборок разного размера и теоретическую)."
      ]
    },
    {
      "cell_type": "code",
      "execution_count": 23,
      "metadata": {
        "trusted": true
      },
      "outputs": [],
      "source": [
        "def exp_p(l, x):\n",
        "    return l*np.exp(-l*x)"
      ]
    },
    {
      "cell_type": "code",
      "execution_count": 24,
      "metadata": {
        "trusted": true
      },
      "outputs": [],
      "source": [
        "theory_exp_p_x = np.linspace(0,10,100)\n",
        "theory_exp_p_y = exp_p(1, theory_exp_p_x)"
      ]
    },
    {
      "cell_type": "code",
      "execution_count": 25,
      "metadata": {
        "trusted": true
      },
      "outputs": [
        {
          "data": {
            "text/plain": [
              "[<matplotlib.lines.Line2D at 0x428d2b0>]"
            ]
          },
          "execution_count": 25,
          "metadata": {},
          "output_type": "execute_result"
        },
        {
          "data": {
            "image/png": "[encoded data removed]",
            "text/plain": [
              "<Figure size 432x288 with 1 Axes>"
            ]
          },
          "metadata": {
            "needs_background": "light"
          },
          "output_type": "display_data"
        }
      ],
      "source": [
        "plt.plot(theory_exp_p_x, theory_exp_p_y)"
      ]
    },
    {
      "cell_type": "code",
      "execution_count": 26,
      "metadata": {
        "trusted": true
      },
      "outputs": [],
      "source": [
        "def norm_p(x, m, s):\n",
        "     return 1/(s*np.sqrt(2*np.pi))*np.exp(-0.5*((x-m)/s)**2)"
      ]
    },
    {
      "cell_type": "code",
      "execution_count": 27,
      "metadata": {
        "trusted": true
      },
      "outputs": [],
      "source": [
        "theory_norm_p_x = np.linspace(-3, 3, 100)\n",
        "theory_norm_p_y = norm_p(theory_norm_p_x, 0, 1)"
      ]
    },
    {
      "cell_type": "code",
      "execution_count": null,
      "metadata": {
        "trusted": true
      },
      "outputs": [],
      "source": [
        "plt.figure(figsize=(10,8))\n",
        "\n",
        "plt.plot(theory_norm_p_x, theory_norm_p_y, label=\"theory\")\n",
        "sns.kdeplot(norm100, label=\"lab100\")\n",
        "sns.kdeplot(norm1000, label=\"lab1000\")\n",
        "plt.legend()"
      ]
    },
    {
      "cell_type": "markdown",
      "metadata": {},
      "source": [
        "#### Часть 2"
      ]
    },
    {
      "cell_type": "markdown",
      "metadata": {},
      "source": [
        "Сгенерировать три выборки размера 100, 1000 и 10000 для случайных расстояний между двумя точками, равномерно распределенные в прямоугольнике со сторонами 10 и 30. Получить среднее значение расстояния между точками, построить функцию распределения вероятностей и плотности вероятностей случайных расстояний. Показать разницу между соответствующими функциями на одном графике."
      ]
    },
    {
      "cell_type": "code",
      "execution_count": 29,
      "metadata": {
        "trusted": true
      },
      "outputs": [],
      "source": [
        "a = 10\n",
        "b = 30 "
      ]
    },
    {
      "cell_type": "code",
      "execution_count": 43,
      "metadata": {
        "trusted": true
      },
      "outputs": [],
      "source": [
        "def dist(x1,y1,x2,y2):\n",
        "    return np.sqrt((x2-x1)**2 + (y2-y1)**2)"
      ]
    },
    {
      "cell_type": "code",
      "execution_count": 44,
      "metadata": {
        "trusted": true
      },
      "outputs": [],
      "source": [
        "def create_d(length):\n",
        "    D = []\n",
        "    for i in range(length):\n",
        "        x1,x2 = np.random.uniform(0,a),np.random.uniform(0,a)\n",
        "        y1,y2 = np.random.uniform(0,b),np.random.uniform(0,b)\n",
        "        D.append(dist(x1,y1,x2,y2))\n",
        "    D.sort()\n",
        "    return D"
      ]
    },
    {
      "cell_type": "code",
      "execution_count": 45,
      "metadata": {
        "trusted": true
      },
      "outputs": [],
      "source": [
        "l100 = create_d(100)\n",
        "l1000 = create_d(1000)\n",
        "l10000 = create_d(10000)"
      ]
    },
    {
      "cell_type": "code",
      "execution_count": null,
      "metadata": {},
      "outputs": [],
      "source": [
        "x100 = np.linspace(0, np.sqrt(a*a + b*b), 100)\n",
        "x1000 = np.linspace(0, np.sqrt(a*a + b*b), 1000)\n",
        "x10000 = np.linspace(0, np.sqrt(a*a + b*b), 10000)"
      ]
    }
  ],
  "metadata": {
    "kernelspec": {
      "display_name": "Pyolite",
      "language": "python",
      "name": "python"
    },
    "language_info": {
      "codemirror_mode": {
        "name": "python",
        "version": 3
      },
      "file_extension": ".py",
      "mimetype": "text/x-python",
      "name": "python",
      "nbconvert_exporter": "python",
      "pygments_lexer": "ipython3",
      "version": "3.8"
    }
  },
  "nbformat": 4,
  "nbformat_minor": 4
}
